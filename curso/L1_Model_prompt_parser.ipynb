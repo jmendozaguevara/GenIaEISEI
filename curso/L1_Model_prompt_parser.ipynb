{
  "cells": [
    {
      "cell_type": "markdown",
      "id": "073bf8f9",
      "metadata": {
        "id": "073bf8f9"
      },
      "source": [
        "# LangChain: Models, Prompts and Output Parsers\n",
        "\n",
        "\n",
        "## Outline\n",
        "\n",
        " * Direct API calls to OpenAI\n",
        " * API calls through LangChain:\n",
        "   * Prompts\n",
        "   * Models\n",
        "   * Output parsers"
      ]
    },
    {
      "cell_type": "markdown",
      "id": "a01ff606",
      "metadata": {
        "id": "a01ff606"
      },
      "source": [
        "## Get your [OpenAI API Key](https://platform.openai.com/account/api-keys)"
      ]
    },
    {
      "cell_type": "code",
      "execution_count": 21,
      "id": "70aa2619",
      "metadata": {
        "height": 47,
        "id": "70aa2619",
        "tags": []
      },
      "outputs": [],
      "source": [
        "#!pip install python-dotenv\n",
        "#!pip install openai"
      ]
    },
    {
      "cell_type": "code",
      "execution_count": 26,
      "id": "b7ed03ed-1322-49e3-b2a2-33e94fb592ef",
      "metadata": {
        "height": 115,
        "id": "b7ed03ed-1322-49e3-b2a2-33e94fb592ef",
        "tags": []
      },
      "outputs": [],
      "source": [
        "import os\n",
        "import openai\n",
        "\n",
        "#from dotenv import load_dotenv, find_dotenv\n",
        "#_ = load_dotenv(find_dotenv()) # read local .env file\n",
        "#openai.api_key  = 'sk-lbk_uE2qgY6x_xKpo0oSFaA_RaY2vHjIsd3uaR9j7XT3BlbkFJYe1Yy-Fy9-zxgGNQcORn0rRzWUk3KnQJ0glTIF5IwA '"
      ]
    },
    {
      "cell_type": "markdown",
      "id": "719a92fb-8227-4513-8950-c965b822c425",
      "metadata": {
        "id": "719a92fb-8227-4513-8950-c965b822c425"
      },
      "source": [
        "Note: LLM's do not always produce the same results. When executing the code in your notebook, you may get slightly different answers."
      ]
    },
    {
      "cell_type": "code",
      "execution_count": 27,
      "id": "4336d784-65c2-4a11-8489-b445b1fad177",
      "metadata": {
        "height": 249,
        "id": "4336d784-65c2-4a11-8489-b445b1fad177"
      },
      "outputs": [],
      "source": [
        "# account for deprecation of LLM model\n",
        "import datetime\n",
        "# Get the current date\n",
        "current_date = datetime.datetime.now().date()\n",
        "\n",
        "# Define the date after which the model should be set to \"gpt-3.5-turbo\"\n",
        "target_date = datetime.date(2024, 6, 12)\n",
        "\n",
        "# Set the model variable based on the current date\n",
        "if current_date > target_date:\n",
        "    llm_model = \"gpt-3.5-turbo\"\n",
        "else:\n",
        "    llm_model = \"gpt-3.5-turbo-0301\""
      ]
    },
    {
      "cell_type": "markdown",
      "id": "bbad9cdb",
      "metadata": {
        "id": "bbad9cdb"
      },
      "source": [
        "## Chat API : OpenAI\n",
        "\n",
        "Let's start with a direct API calls to OpenAI."
      ]
    },
    {
      "cell_type": "code",
      "execution_count": 3,
      "id": "484bfa6a",
      "metadata": {
        "height": 166,
        "id": "484bfa6a",
        "tags": []
      },
      "outputs": [],
      "source": [
        "\n",
        "#def get_completion(prompt, model=llm_model):\n",
        "#    messages = [{\"role\": \"user\", \"content\": prompt}]\n",
        "#    response = openai.ChatCompletion.create(\n",
        "#        model=model,\n",
        "#        messages=messages,\n",
        "#        temperature=0,\n",
        "#    )\n",
        "#    \n",
        "#    return response.choices[0].message[\"content\"]\n",
        "  \n",
        "  \n",
        "from langchain_ollama import ChatOllama\n",
        "import ollama\n",
        "llm = ChatOllama(\n",
        "    model=\"llama3.1\",\n",
        "    temperature=0,\n",
        ")\n",
        "\n",
        "def get_completionOllama(prompt):\n",
        "    response = ollama.chat(model='llama3.1', messages=[\n",
        "      {\n",
        "        'role': 'user',\n",
        "        'content': prompt,\n",
        "      },\n",
        "    ])\n",
        "    return response['message']['content']"
      ]
    },
    {
      "cell_type": "code",
      "execution_count": 5,
      "id": "a1d076ce",
      "metadata": {
        "height": 30,
        "id": "a1d076ce",
        "tags": []
      },
      "outputs": [
        {
          "data": {
            "text/plain": [
              "'The answer to 1+1 is 2.'"
            ]
          },
          "execution_count": 5,
          "metadata": {},
          "output_type": "execute_result"
        }
      ],
      "source": [
        "#get_completion(\"What is 1+1?\")\n",
        "get_completionOllama(\"What is 1+1?\")"
      ]
    },
    {
      "cell_type": "code",
      "execution_count": null,
      "id": "1b32b57a",
      "metadata": {
        "height": 149,
        "id": "1b32b57a",
        "tags": []
      },
      "outputs": [],
      "source": [
        "customer_email = \"\"\"\n",
        "Today the new title from Valve is coming out \\ \n",
        "I want to get it but I don't have money \\ \n",
        "I'll do my best to save up, \\ \n",
        "so I can buy the ultimate version!\n",
        "\"\"\""
      ]
    },
    {
      "cell_type": "code",
      "execution_count": 43,
      "id": "18c34459",
      "metadata": {
        "height": 64,
        "id": "18c34459",
        "tags": []
      },
      "outputs": [],
      "source": [
        "style = \"\"\"Spanish text \\\n",
        "in a calm and respectful tone\n",
        "\"\"\""
      ]
    },
    {
      "cell_type": "code",
      "execution_count": 44,
      "id": "80b558e2",
      "metadata": {
        "height": 132,
        "id": "80b558e2",
        "tags": []
      },
      "outputs": [
        {
          "name": "stdout",
          "output_type": "stream",
          "text": [
            "Translate the text that is delimited by triple backticks\n",
            "into a style that is Spanish text in a calm and respectful tone\n",
            ".\n",
            "text: ```\n",
            "Today the new title from Valve is coming out \\ \n",
            "I want to get it but I don't have money \\ \n",
            "I'll do my best to save up, \\ \n",
            "so I can buy the ultimate version!\n",
            "```\n",
            "\n"
          ]
        }
      ],
      "source": [
        "prompt = f\"\"\"Translate the text \\\n",
        "that is delimited by triple backticks\n",
        "into a style that is {style}.\n",
        "text: ```{customer_email}```\n",
        "\"\"\"\n",
        "\n",
        "print(prompt)"
      ]
    },
    {
      "cell_type": "code",
      "execution_count": 45,
      "id": "c883dcbd",
      "metadata": {
        "height": 30,
        "id": "c883dcbd",
        "tags": []
      },
      "outputs": [],
      "source": [
        "#response = get_completion(prompt)\n",
        "response = get_completionOllama(prompt)"
      ]
    },
    {
      "cell_type": "code",
      "execution_count": 46,
      "id": "99b33f61",
      "metadata": {
        "height": 30,
        "id": "99b33f61",
        "tags": []
      },
      "outputs": [
        {
          "data": {
            "text/plain": [
              "\"Here is the translation into a calm and respectful tone in Spanish:\\n\\n```Hoy sale el nuevo título de Valve \\\\\\nMe gustaría obtenerlo pero no tengo dinero \\\\ \\nHaré mi mejor esfuerzo por ahorrar un poco, \\\\ \\npara poder comprar la versión definitiva!\\n```\\n\\nHowever, if you'd like me to rewrite the text to make it sound more polished and natural in Spanish, I can try to do that. Here's a version with some slight adjustments:\\n\\n```Hoy sale el nuevo título de Valve y estoy ansioso por obtenerlo \\\\\\nLamentablemente, no tengo suficiente dinero en este momento \\\\ \\nNo obstante, estaré guardando mis fondos para poder comprar la versión completa en cuanto sea posible!\\n```\\n\\nThis version maintains the same calm and respectful tone as the original text, while using slightly more formal and polished language.\""
            ]
          },
          "execution_count": 46,
          "metadata": {},
          "output_type": "execute_result"
        }
      ],
      "source": [
        "response"
      ]
    },
    {
      "cell_type": "markdown",
      "id": "f80482d1",
      "metadata": {
        "id": "f80482d1"
      },
      "source": [
        "## Chat API : LangChain\n",
        "\n",
        "Let's try how we can do the same using LangChain."
      ]
    },
    {
      "cell_type": "code",
      "execution_count": null,
      "id": "3a525b58",
      "metadata": {
        "height": 30,
        "id": "3a525b58",
        "tags": []
      },
      "outputs": [],
      "source": [
        "#!pip install --upgrade langchain"
      ]
    },
    {
      "cell_type": "markdown",
      "id": "a25c5b27",
      "metadata": {
        "id": "a25c5b27"
      },
      "source": [
        "### Model"
      ]
    },
    {
      "cell_type": "code",
      "execution_count": null,
      "id": "f0d4a269",
      "metadata": {
        "height": 30,
        "id": "f0d4a269",
        "tags": []
      },
      "outputs": [],
      "source": [
        "from langchain.chat_models import ChatOpenAI"
      ]
    },
    {
      "cell_type": "code",
      "execution_count": null,
      "id": "1cc0c8b8",
      "metadata": {
        "height": 81,
        "id": "1cc0c8b8",
        "tags": []
      },
      "outputs": [],
      "source": [
        "# To control the randomness and creativity of the generated\n",
        "# text by an LLM, use temperature = 0.0\n",
        "chat = ChatOpenAI(temperature=0.0, model=llm_model)\n",
        "chat"
      ]
    },
    {
      "cell_type": "markdown",
      "id": "b4d07256",
      "metadata": {
        "id": "b4d07256"
      },
      "source": [
        "### Prompt template"
      ]
    },
    {
      "cell_type": "code",
      "execution_count": null,
      "id": "57bda7d8",
      "metadata": {
        "height": 98,
        "id": "57bda7d8",
        "tags": []
      },
      "outputs": [],
      "source": [
        "template_string = \"\"\"Translate the text \\\n",
        "that is delimited by triple backticks \\\n",
        "into a style that is {style}. \\\n",
        "text: ```{text}```\n",
        "\"\"\""
      ]
    },
    {
      "cell_type": "code",
      "execution_count": null,
      "id": "3a31f246",
      "metadata": {
        "height": 81,
        "id": "3a31f246",
        "tags": []
      },
      "outputs": [],
      "source": [
        "from langchain.prompts import ChatPromptTemplate\n",
        "\n",
        "prompt_template = ChatPromptTemplate.from_template(template_string)\n"
      ]
    },
    {
      "cell_type": "code",
      "execution_count": null,
      "id": "cac2cb16",
      "metadata": {
        "height": 30,
        "id": "cac2cb16",
        "tags": []
      },
      "outputs": [],
      "source": [
        "prompt_template.messages[0].prompt"
      ]
    },
    {
      "cell_type": "code",
      "execution_count": null,
      "id": "cdc5566c",
      "metadata": {
        "height": 30,
        "id": "cdc5566c",
        "tags": []
      },
      "outputs": [],
      "source": [
        "prompt_template.messages[0].prompt.input_variables"
      ]
    },
    {
      "cell_type": "code",
      "execution_count": null,
      "id": "bbd51a93",
      "metadata": {
        "height": 64,
        "id": "bbd51a93",
        "tags": []
      },
      "outputs": [],
      "source": [
        "customer_style = \"\"\"American English \\\n",
        "in a calm and respectful tone\n",
        "\"\"\""
      ]
    },
    {
      "cell_type": "code",
      "execution_count": null,
      "id": "48989d11",
      "metadata": {
        "height": 149,
        "id": "48989d11",
        "tags": []
      },
      "outputs": [],
      "source": [
        "customer_email = \"\"\"\n",
        "Arrr, I be fuming that me blender lid \\\n",
        "flew off and splattered me kitchen walls \\\n",
        "with smoothie! And to make matters worse, \\\n",
        "the warranty don't cover the cost of \\\n",
        "cleaning up me kitchen. I need yer help \\\n",
        "right now, matey!\n",
        "\"\"\""
      ]
    },
    {
      "cell_type": "code",
      "execution_count": null,
      "id": "dff3954f",
      "metadata": {
        "height": 64,
        "id": "dff3954f",
        "tags": []
      },
      "outputs": [],
      "source": [
        "customer_messages = prompt_template.format_messages(\n",
        "                    style=customer_style,\n",
        "                    text=customer_email)"
      ]
    },
    {
      "cell_type": "code",
      "execution_count": null,
      "id": "8c09d8b4",
      "metadata": {
        "height": 47,
        "id": "8c09d8b4",
        "tags": []
      },
      "outputs": [],
      "source": [
        "print(type(customer_messages))\n",
        "print(type(customer_messages[0]))"
      ]
    },
    {
      "cell_type": "code",
      "execution_count": null,
      "id": "e02dafa2",
      "metadata": {
        "height": 30,
        "id": "e02dafa2",
        "tags": []
      },
      "outputs": [],
      "source": [
        "print(customer_messages[0])"
      ]
    },
    {
      "cell_type": "code",
      "execution_count": null,
      "id": "bd789f9f",
      "metadata": {
        "height": 47,
        "id": "bd789f9f",
        "tags": []
      },
      "outputs": [],
      "source": [
        "# Call the LLM to translate to the style of the customer message\n",
        "customer_response = chat(customer_messages)"
      ]
    },
    {
      "cell_type": "code",
      "execution_count": null,
      "id": "ad294407",
      "metadata": {
        "height": 30,
        "id": "ad294407",
        "tags": []
      },
      "outputs": [],
      "source": [
        "print(customer_response.content)"
      ]
    },
    {
      "cell_type": "code",
      "execution_count": null,
      "id": "7c267e5f",
      "metadata": {
        "height": 166,
        "id": "7c267e5f",
        "tags": []
      },
      "outputs": [],
      "source": [
        "service_reply = \"\"\"Hey there customer, \\\n",
        "the warranty does not cover \\\n",
        "cleaning expenses for your kitchen \\\n",
        "because it's your fault that \\\n",
        "you misused your blender \\\n",
        "by forgetting to put the lid on before \\\n",
        "starting the blender. \\\n",
        "Tough luck! See ya!\n",
        "\"\"\""
      ]
    },
    {
      "cell_type": "code",
      "execution_count": null,
      "id": "2ff72bd1",
      "metadata": {
        "height": 81,
        "id": "2ff72bd1",
        "tags": []
      },
      "outputs": [],
      "source": [
        "service_style_pirate = \"\"\"\\\n",
        "a polite tone \\\n",
        "that speaks in English Pirate\\\n",
        "\"\"\""
      ]
    },
    {
      "cell_type": "code",
      "execution_count": null,
      "id": "7d9e8f3f",
      "metadata": {
        "height": 98,
        "id": "7d9e8f3f",
        "tags": []
      },
      "outputs": [],
      "source": [
        "service_messages = prompt_template.format_messages(\n",
        "    style=service_style_pirate,\n",
        "    text=service_reply)\n",
        "\n",
        "print(service_messages[0].content)"
      ]
    },
    {
      "cell_type": "code",
      "execution_count": null,
      "id": "a0ae5552",
      "metadata": {
        "height": 47,
        "id": "a0ae5552",
        "tags": []
      },
      "outputs": [],
      "source": [
        "service_response = chat(service_messages)\n",
        "print(service_response.content)"
      ]
    },
    {
      "cell_type": "markdown",
      "id": "36536e79",
      "metadata": {
        "id": "36536e79"
      },
      "source": [
        "## Output Parsers\n",
        "\n",
        "Let's start with defining how we would like the LLM output to look like:"
      ]
    },
    {
      "cell_type": "code",
      "execution_count": null,
      "id": "f1ccdff5",
      "metadata": {
        "height": 98,
        "id": "f1ccdff5",
        "tags": []
      },
      "outputs": [],
      "source": [
        "{\n",
        "  \"gift\": False,\n",
        "  \"delivery_days\": 5,\n",
        "  \"price_value\": \"pretty affordable!\"\n",
        "}"
      ]
    },
    {
      "cell_type": "code",
      "execution_count": null,
      "id": "df0f4680",
      "metadata": {
        "height": 540,
        "id": "df0f4680",
        "tags": []
      },
      "outputs": [],
      "source": [
        "customer_review = \"\"\"\\\n",
        "This leaf blower is pretty amazing.  It has four settings:\\\n",
        "candle blower, gentle breeze, windy city, and tornado. \\\n",
        "It arrived in two days, just in time for my wife's \\\n",
        "anniversary present. \\\n",
        "I think my wife liked it so much she was speechless. \\\n",
        "So far I've been the only one using it, and I've been \\\n",
        "using it every other morning to clear the leaves on our lawn. \\\n",
        "It's slightly more expensive than the other leaf blowers \\\n",
        "out there, but I think it's worth it for the extra features.\n",
        "\"\"\"\n",
        "\n",
        "review_template = \"\"\"\\\n",
        "For the following text, extract the following information:\n",
        "\n",
        "gift: Was the item purchased as a gift for someone else? \\\n",
        "Answer True if yes, False if not or unknown.\n",
        "\n",
        "delivery_days: How many days did it take for the product \\\n",
        "to arrive? If this information is not found, output -1.\n",
        "\n",
        "price_value: Extract any sentences about the value or price,\\\n",
        "and output them as a comma separated Python list.\n",
        "\n",
        "Format the output as JSON with the following keys:\n",
        "gift\n",
        "delivery_days\n",
        "price_value\n",
        "\n",
        "text: {text}\n",
        "\"\"\""
      ]
    },
    {
      "cell_type": "code",
      "execution_count": null,
      "id": "f2386e9c",
      "metadata": {
        "height": 81,
        "id": "f2386e9c",
        "tags": []
      },
      "outputs": [],
      "source": [
        "from langchain.prompts import ChatPromptTemplate\n",
        "\n",
        "prompt_template = ChatPromptTemplate.from_template(review_template)\n",
        "print(prompt_template)"
      ]
    },
    {
      "cell_type": "code",
      "execution_count": null,
      "id": "121bb0d4",
      "metadata": {
        "height": 81,
        "id": "121bb0d4",
        "tags": []
      },
      "outputs": [],
      "source": [
        "messages = prompt_template.format_messages(text=customer_review)\n",
        "chat = ChatOpenAI(temperature=0.0, model=llm_model)\n",
        "response = chat(messages)\n",
        "print(response.content)"
      ]
    },
    {
      "cell_type": "code",
      "execution_count": null,
      "id": "10de1d28",
      "metadata": {
        "height": 30,
        "id": "10de1d28",
        "tags": []
      },
      "outputs": [],
      "source": [
        "type(response.content)"
      ]
    },
    {
      "cell_type": "code",
      "execution_count": null,
      "id": "3a3c0609",
      "metadata": {
        "height": 81,
        "id": "3a3c0609",
        "tags": []
      },
      "outputs": [],
      "source": [
        "# You will get an error by running this line of code\n",
        "# because'gift' is not a dictionary\n",
        "# 'gift' is a string\n",
        "response.content.get('gift')"
      ]
    },
    {
      "cell_type": "markdown",
      "id": "5f7de2b8",
      "metadata": {
        "id": "5f7de2b8"
      },
      "source": [
        "### Parse the LLM output string into a Python dictionary"
      ]
    },
    {
      "cell_type": "code",
      "execution_count": null,
      "id": "c2e0ec49",
      "metadata": {
        "height": 47,
        "id": "c2e0ec49",
        "tags": []
      },
      "outputs": [],
      "source": [
        "from langchain.output_parsers import ResponseSchema\n",
        "from langchain.output_parsers import StructuredOutputParser"
      ]
    },
    {
      "cell_type": "code",
      "execution_count": null,
      "id": "9dea24b4",
      "metadata": {
        "height": 353,
        "id": "9dea24b4",
        "tags": []
      },
      "outputs": [],
      "source": [
        "gift_schema = ResponseSchema(name=\"gift\",\n",
        "                             description=\"Was the item purchased\\\n",
        "                             as a gift for someone else? \\\n",
        "                             Answer True if yes,\\\n",
        "                             False if not or unknown.\")\n",
        "delivery_days_schema = ResponseSchema(name=\"delivery_days\",\n",
        "                                      description=\"How many days\\\n",
        "                                      did it take for the product\\\n",
        "                                      to arrive? If this \\\n",
        "                                      information is not found,\\\n",
        "                                      output -1.\")\n",
        "price_value_schema = ResponseSchema(name=\"price_value\",\n",
        "                                    description=\"Extract any\\\n",
        "                                    sentences about the value or \\\n",
        "                                    price, and output them as a \\\n",
        "                                    comma separated Python list.\")\n",
        "\n",
        "response_schemas = [gift_schema,\n",
        "                    delivery_days_schema,\n",
        "                    price_value_schema]"
      ]
    },
    {
      "cell_type": "code",
      "execution_count": null,
      "id": "b57e1ba8",
      "metadata": {
        "height": 45,
        "id": "b57e1ba8",
        "tags": []
      },
      "outputs": [],
      "source": [
        "output_parser = StructuredOutputParser.from_response_schemas(response_schemas)"
      ]
    },
    {
      "cell_type": "code",
      "execution_count": null,
      "id": "fdeaf4fc",
      "metadata": {
        "height": 30,
        "id": "fdeaf4fc",
        "tags": []
      },
      "outputs": [],
      "source": [
        "format_instructions = output_parser.get_format_instructions()"
      ]
    },
    {
      "cell_type": "code",
      "execution_count": null,
      "id": "1eb176c5",
      "metadata": {
        "height": 30,
        "id": "1eb176c5",
        "tags": []
      },
      "outputs": [],
      "source": [
        "print(format_instructions)"
      ]
    },
    {
      "cell_type": "code",
      "execution_count": null,
      "id": "082947fc",
      "metadata": {
        "height": 385,
        "id": "082947fc",
        "tags": []
      },
      "outputs": [],
      "source": [
        "review_template_2 = \"\"\"\\\n",
        "For the following text, extract the following information:\n",
        "\n",
        "gift: Was the item purchased as a gift for someone else? \\\n",
        "Answer True if yes, False if not or unknown.\n",
        "\n",
        "delivery_days: How many days did it take for the product\\\n",
        "to arrive? If this information is not found, output -1.\n",
        "\n",
        "price_value: Extract any sentences about the value or price,\\\n",
        "and output them as a comma separated Python list.\n",
        "\n",
        "text: {text}\n",
        "\n",
        "{format_instructions}\n",
        "\"\"\"\n",
        "\n",
        "prompt = ChatPromptTemplate.from_template(template=review_template_2)\n",
        "\n",
        "messages = prompt.format_messages(text=customer_review,\n",
        "                                format_instructions=format_instructions)"
      ]
    },
    {
      "cell_type": "code",
      "execution_count": null,
      "id": "1f1537a7",
      "metadata": {
        "height": 30,
        "id": "1f1537a7",
        "tags": []
      },
      "outputs": [],
      "source": [
        "print(messages[0].content)"
      ]
    },
    {
      "cell_type": "code",
      "execution_count": null,
      "id": "7b663657",
      "metadata": {
        "height": 30,
        "id": "7b663657",
        "tags": []
      },
      "outputs": [],
      "source": [
        "response = chat(messages)"
      ]
    },
    {
      "cell_type": "code",
      "execution_count": null,
      "id": "b8c3a9fe",
      "metadata": {
        "height": 30,
        "id": "b8c3a9fe",
        "tags": []
      },
      "outputs": [],
      "source": [
        "print(response.content)"
      ]
    },
    {
      "cell_type": "code",
      "execution_count": null,
      "id": "904f1c25",
      "metadata": {
        "height": 30,
        "id": "904f1c25",
        "tags": []
      },
      "outputs": [],
      "source": [
        "output_dict = output_parser.parse(response.content)"
      ]
    },
    {
      "cell_type": "code",
      "execution_count": null,
      "id": "d48b647a",
      "metadata": {
        "height": 30,
        "id": "d48b647a",
        "tags": []
      },
      "outputs": [],
      "source": [
        "output_dict"
      ]
    },
    {
      "cell_type": "code",
      "execution_count": null,
      "id": "4346150f",
      "metadata": {
        "height": 30,
        "id": "4346150f",
        "tags": []
      },
      "outputs": [],
      "source": [
        "type(output_dict)"
      ]
    },
    {
      "cell_type": "code",
      "execution_count": null,
      "id": "a833fcea",
      "metadata": {
        "height": 30,
        "id": "a833fcea",
        "tags": []
      },
      "outputs": [],
      "source": [
        "output_dict.get('delivery_days')"
      ]
    },
    {
      "cell_type": "markdown",
      "id": "e802f4fd-7dab-4ad7-8788-c0cd5c02d930",
      "metadata": {
        "id": "e802f4fd-7dab-4ad7-8788-c0cd5c02d930"
      },
      "source": [
        "Reminder: Download your notebook to you local computer to save your work."
      ]
    },
    {
      "cell_type": "code",
      "execution_count": null,
      "id": "48af7b8a",
      "metadata": {
        "height": 30,
        "id": "48af7b8a"
      },
      "outputs": [],
      "source": []
    },
    {
      "cell_type": "code",
      "execution_count": null,
      "id": "7ff0c64f",
      "metadata": {
        "height": 30,
        "id": "7ff0c64f"
      },
      "outputs": [],
      "source": []
    },
    {
      "cell_type": "code",
      "execution_count": null,
      "id": "9b54ebdc",
      "metadata": {
        "height": 30,
        "id": "9b54ebdc"
      },
      "outputs": [],
      "source": []
    },
    {
      "cell_type": "code",
      "execution_count": null,
      "id": "6bde670c",
      "metadata": {
        "height": 30,
        "id": "6bde670c"
      },
      "outputs": [],
      "source": []
    },
    {
      "cell_type": "code",
      "execution_count": null,
      "id": "ebeb6959",
      "metadata": {
        "height": 30,
        "id": "ebeb6959"
      },
      "outputs": [],
      "source": []
    },
    {
      "cell_type": "code",
      "execution_count": null,
      "id": "ba128b9d",
      "metadata": {
        "height": 30,
        "id": "ba128b9d"
      },
      "outputs": [],
      "source": []
    },
    {
      "cell_type": "code",
      "execution_count": null,
      "id": "2284b4be",
      "metadata": {
        "height": 30,
        "id": "2284b4be"
      },
      "outputs": [],
      "source": []
    },
    {
      "cell_type": "code",
      "execution_count": null,
      "id": "38d6a0f7",
      "metadata": {
        "height": 30,
        "id": "38d6a0f7"
      },
      "outputs": [],
      "source": []
    }
  ],
  "metadata": {
    "colab": {
      "provenance": []
    },
    "kernelspec": {
      "display_name": "Python 3 (ipykernel)",
      "language": "python",
      "name": "python3"
    },
    "language_info": {
      "codemirror_mode": {
        "name": "ipython",
        "version": 3
      },
      "file_extension": ".py",
      "mimetype": "text/x-python",
      "name": "python",
      "nbconvert_exporter": "python",
      "pygments_lexer": "ipython3",
      "version": "3.12.5"
    }
  },
  "nbformat": 4,
  "nbformat_minor": 5
}
